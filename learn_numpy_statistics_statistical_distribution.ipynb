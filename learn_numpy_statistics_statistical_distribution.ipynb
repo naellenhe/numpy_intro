{
 "cells": [
  {
   "cell_type": "code",
   "execution_count": 1,
   "metadata": {},
   "outputs": [],
   "source": [
    "import numpy as np"
   ]
  },
  {
   "cell_type": "markdown",
   "metadata": {},
   "source": [
    "### Histograms\n",
    "We can graph histograms using a Python module known as *Matplotlib*.\n",
    "\n",
    "For now, familiarize yourself with the following syntax to draw a histogram:"
   ]
  },
  {
   "cell_type": "code",
   "execution_count": 2,
   "metadata": {},
   "outputs": [
    {
     "data": {
      "text/plain": [
       "(array([ 3.,  0.,  5.,  0.,  0.,  2.,  0.,  4.,  0.,  1.]),\n",
       " array([ 1. ,  1.4,  1.8,  2.2,  2.6,  3. ,  3.4,  3.8,  4.2,  4.6,  5. ]),\n",
       " <a list of 10 Patch objects>)"
      ]
     },
     "execution_count": 2,
     "metadata": {},
     "output_type": "execute_result"
    }
   ],
   "source": [
    "from matplotlib import pyplot as plt\n",
    "data = np.array([1, 1, 1, 2, 2, 2, 2, 2, 3, 3, 4, 4, 4, 4, 5])\n",
    "plt.hist(data)"
   ]
  },
  {
   "cell_type": "markdown",
   "metadata": {},
   "source": [
    "When we enter `plt.hist` with no keyword arguments, matplotlib will automatically make a histogram with 10 bins of equal width that span the entire range of our data.\n",
    "\n",
    "For a dataset like this, our histogram table would look like this:\n",
    "\n",
    "| Bin\t   | Number of Values | \n",
    "| -------- |:----------------:| \n",
    "| (0, 5)   | 2                | \n",
    "| (6, 10)  | 10               | \n",
    "| (11, 15) | 11               | \n",
    "| ...\t   | ...              | \n",
    "| (46, 50) | 3                | \n",
    "\n",
    "If you want a different number of bins, use the keyword bins. For instance, the following code would give us 5 bins, instead of 10:"
   ]
  },
  {
   "cell_type": "code",
   "execution_count": 3,
   "metadata": {},
   "outputs": [
    {
     "data": {
      "text/plain": [
       "(array([ 3.,  5.,  0.,  2.,  4.,  1.]),\n",
       " array([ 1.        ,  1.66666667,  2.33333333,  3.        ,  3.66666667,\n",
       "         4.33333333,  5.        ]),\n",
       " <a list of 6 Patch objects>)"
      ]
     },
     "execution_count": 3,
     "metadata": {},
     "output_type": "execute_result"
    },
    {
     "data": {
      "image/png": "[encoded data removed]",
      "text/plain": [
       "<matplotlib.figure.Figure at 0x115c7c690>"
      ]
     },
     "metadata": {},
     "output_type": "display_data"
    }
   ],
   "source": [
    "plt.hist(data, bins=6)"
   ]
  },
  {
   "cell_type": "markdown",
   "metadata": {},
   "source": [
    "If you want a different range, you can pass in the minimum and maximum values that you want to histogram using the keyword range. We pass in a tuple of two numbers. The first number is the minimum value that we want to plot and the second value is the number that we want to plot up to, but not including."
   ]
  },
  {
   "cell_type": "code",
   "execution_count": 4,
   "metadata": {},
   "outputs": [
    {
     "data": {
      "text/plain": [
       "(array([ 3.,  5.,  2.,  4.,  1.]),\n",
       " array([ 1.,  2.,  3.,  4.,  5.,  6.]),\n",
       " <a list of 5 Patch objects>)"
      ]
     },
     "execution_count": 4,
     "metadata": {},
     "output_type": "execute_result"
    },
    {
     "data": {
      "image/png": "[encoded data removed]",
      "text/plain": [
       "<matplotlib.figure.Figure at 0x115d07c50>"
      ]
     },
     "metadata": {},
     "output_type": "display_data"
    }
   ],
   "source": [
    "plt.hist(data, bins=5, range=(1, 6))"
   ]
  },
  {
   "cell_type": "markdown",
   "metadata": {},
   "source": [
    "### Different Types of Distributions\n",
    "Histograms and their datasets can be classified based on the shape of the graphed values. In the next two exercises, we'll look at two different ways of describing histograms.\n",
    "\n",
    "One way to classify a dataset is by counting the number of distinct peaks present in the graph. Peaks represent concentrations of data. Let's look at the following examples:\n",
    "\n",
    "- A *unimodal* dataset has only one distinct peak.\n",
    "\n",
    "![img](images/unimodal_new.svg \"unimodal\")\n",
    "\n",
    "- A *bimodal dataset* has two distinct peaks. This often happens when the data contains two different populations.\n",
    "- A *multimodal dataset* has more than two peaks.\n",
    "- A *uniform dataset* doesn't have any distinct peaks."
   ]
  },
  {
   "cell_type": "markdown",
   "metadata": {},
   "source": [
    "We can further classify unimodal distributions by describing where most of the numbers are relative to the peak.\n",
    "\n",
    "- A *symmetric dataset* has equal amounts of data on both sides of the peak. Both sides should look about the same. histogram\n",
    "\n",
    "- A *skew-right dataset* has a long tail on the right of the peak, but most of the data is on the left. histogram\n",
    "\n",
    "- A *skew-left dataset* has a long tail on the left of the peak, but most of the data is on the right."
   ]
  },
  {
   "cell_type": "markdown",
   "metadata": {},
   "source": [
    "### Normal Distribution\n",
    "The most common distribution in statistics is known as the normal distribution, which is a symmetric, unimodal distribution.\n",
    "\n",
    "Lots of things follow a normal distribution:\n",
    "\n",
    "- The heights of a large group of people\n",
    "- Blood pressure measurements for a group of healthy people\n",
    "- Errors in measurements"
   ]
  },
  {
   "cell_type": "markdown",
   "metadata": {},
   "source": [
    "We can generate our own normally distributed datasets using NumPy. Using these datasets can help us better understand the properties and behavior of different distributions. We can also use them to model results, which we can then use as a comparison to real data.\n",
    "\n",
    "In order to create these datasets, we need to use a random number generator. The NumPy library has several functions for generating random numbers, including one specifically built to generate a set of numbers that fit a normal distribution: `np.random.normal`. This function takes the following keyword arguments:\n",
    "\n",
    "- loc: the mean for the normal distribution\n",
    "- scale: the standard deviation of the distribution\n",
    "- size: the number of random numbers to generate"
   ]
  },
  {
   "cell_type": "code",
   "execution_count": 5,
   "metadata": {},
   "outputs": [],
   "source": [
    "a = np.random.normal(0, 1, size=100000)"
   ]
  },
  {
   "cell_type": "code",
   "execution_count": 6,
   "metadata": {},
   "outputs": [
    {
     "data": {
      "image/png": "[encoded data removed]",
      "text/plain": [
       "<matplotlib.figure.Figure at 0x115dde650>"
      ]
     },
     "metadata": {},
     "output_type": "display_data"
    }
   ],
   "source": [
    "plt.hist(a, bins= 100)\n",
    "plt.show()\n",
    "\n",
    "#If we were to plot this set of random numbers as a histogram, it would look like this:"
   ]
  },
  {
   "cell_type": "code",
   "execution_count": 7,
   "metadata": {},
   "outputs": [
    {
     "data": {
      "image/png": "[encoded data removed]",
      "text/plain": [
       "<matplotlib.figure.Figure at 0x11625fb90>"
      ]
     },
     "metadata": {},
     "output_type": "display_data"
    }
   ],
   "source": [
    "# Example\n",
    "# One paleontologist is studying two types of dinosaurs: brachiosaurus and fictionosaurus.\n",
    "# Brachiosaurus\n",
    "b_data = np.random.normal(6.7, 0.7, 1000)\n",
    "\n",
    "# Fictionosaurus\n",
    "f_data = np.random.normal(7.7, 0.3, 1000)\n",
    "\n",
    "plt.hist(b_data,\n",
    "         bins=30, range=(5, 8.5), histtype='step',\n",
    "         label='Brachiosaurus')\n",
    "plt.hist(f_data,\n",
    "         bins=30, range=(5, 8.5), histtype='step',\n",
    "         label='Fictionosaurus')\n",
    "plt.xlabel('Femur Length (ft)')\n",
    "plt.legend(loc=2)\n",
    "plt.show()\n"
   ]
  },
  {
   "cell_type": "markdown",
   "metadata": {},
   "source": [
    "### Standard Deviations and Normal Distribution\n",
    "\n",
    "We know that the standard deviation affects the \"shape\" of our normal distribution. The last exercise helps to give us a more quantitative understanding of this.\n",
    "\n",
    "Suppose that we have a normal distribution with a mean of 50 and a standard deviation of 10. When we say \"within one standard deviation of the mean\", this is what we are saying mathematically:\n",
    "```\n",
    "lower_bound = mean - std\n",
    "            = 50 - 10\n",
    "            = 40\n",
    "\n",
    "upper_bound = mean + std\n",
    "            = 50 + 10\n",
    "            = 60\n",
    "```\n",
    "It turns out that we can expect about 68% of our dataset to be between 40 and 60, for this distribution.\n",
    "\n",
    "In fact, here are a few more helpful rules for normal distributions:\n",
    "\n",
    "- 68% of our samples will fall between +/- 1 standard deviation of the mean\n",
    "- 95% of our samples will fall between +/- 2 standard deviations of the mean\n",
    "- 99.7% of our samples will fall between +/- 3 standard deviations of the mean"
   ]
  },
  {
   "cell_type": "markdown",
   "metadata": {},
   "source": [
    "### Binomial Distributions\n",
    "For instance, suppose we want to know the different probabilities of our basketball player making 1, 2, 3, etc. out of 10 shots.\n",
    "\n",
    "NumPy has a function for generating binomial distributions: `np.random.binomial`, which we can use to determine the probability of different outcomes.\n",
    "\n",
    "The function will return the number of successes for each \"experiment\".\n",
    "\n",
    "It takes the following arguments:\n",
    "\n",
    "- N: The number of samples or trials\n",
    "- P: The probability of success\n",
    "- size: The number of experiments\n",
    "Let's generate a bunch of \"experiments\" of our basketball player making 10 shots. We choose a big N to be sure that our probabilities converge on the correct answer."
   ]
  },
  {
   "cell_type": "code",
   "execution_count": 8,
   "metadata": {},
   "outputs": [],
   "source": [
    "# Let's generate 10,000 \"experiments\"\n",
    "# N = 10 shots\n",
    "# P = 0.30 (30% he'll get a free throw)\n",
    "\n",
    "a = np.random.binomial(10, 0.30, size=10000)"
   ]
  },
  {
   "cell_type": "code",
   "execution_count": 9,
   "metadata": {},
   "outputs": [
    {
     "data": {
      "image/png": "[encoded data removed]",
      "text/plain": [
       "<matplotlib.figure.Figure at 0x1164d29d0>"
      ]
     },
     "metadata": {},
     "output_type": "display_data"
    }
   ],
   "source": [
    "plt.hist(a, range=(0, 10), bins=10, normed=True)\n",
    "plt.xlabel('Number of \"Free Throws\"')\n",
    "plt.ylabel('Frequency')\n",
    "plt.show()"
   ]
  },
  {
   "cell_type": "markdown",
   "metadata": {},
   "source": [
    "The binomial distribution is important because it allows us to know how likely a certain outcome is, even when it's not the expected one. From this graph, we can see that it's not that unlikely an outcome for our basketball player to get 4 free throws out of 10. However, it would be pretty unlikely for him to get all 10.\n"
   ]
  },
  {
   "cell_type": "markdown",
   "metadata": {},
   "source": [
    "### Binomial Distributions and Probability\n",
    "\n",
    "Our basketball player has a 30% chance of making any individual basket. He took 10 shots and made 4 of them, even though we only expected him to make 3. What percent chance did he have of making those 4 shots?\n",
    "\n",
    "We can calculate a different probability by counting the percent of experiments with the same outcome, using the np.mean function.\n",
    "\n",
    "Remember that taking the mean of a logical statement will give us the percent of values that satisfy our logical statement.\n",
    "\n",
    "Let's calculate the probability that he makes 4 baskets:"
   ]
  },
  {
   "cell_type": "code",
   "execution_count": 10,
   "metadata": {},
   "outputs": [
    {
     "data": {
      "text/plain": [
       "0.2026"
      ]
     },
     "execution_count": 10,
     "metadata": {},
     "output_type": "execute_result"
    }
   ],
   "source": [
    "a = np.random.binomial(10, 0.30, size=10000)\n",
    "np.mean(a == 4)"
   ]
  },
  {
   "cell_type": "markdown",
   "metadata": {},
   "source": [
    "So, our basketball player has a roughly 20% chance of making 4 baskets\n",
    "\n",
    "This suggests that what we observed wasn't that unlikely. It's quite possible that he hasn't got any better; he just got lucky."
   ]
  },
  {
   "cell_type": "code",
   "execution_count": 11,
   "metadata": {},
   "outputs": [
    {
     "data": {
      "text/plain": [
       "0.0015"
      ]
     },
     "execution_count": 11,
     "metadata": {},
     "output_type": "execute_result"
    }
   ],
   "source": [
    "np.mean(a == 8)"
   ]
  },
  {
   "cell_type": "code",
   "execution_count": null,
   "metadata": {},
   "outputs": [],
   "source": []
  },
  {
   "cell_type": "code",
   "execution_count": null,
   "metadata": {},
   "outputs": [],
   "source": []
  }
 ],
 "metadata": {
  "kernelspec": {
   "display_name": "Python 3",
   "language": "python",
   "name": "python3"
  },
  "language_info": {
   "codemirror_mode": {
    "name": "ipython",
    "version": 2
   },
   "file_extension": ".py",
   "mimetype": "text/x-python",
   "name": "python",
   "nbconvert_exporter": "python",
   "pygments_lexer": "ipython2",
   "version": "2.7.14"
  }
 },
 "nbformat": 4,
 "nbformat_minor": 2
}
